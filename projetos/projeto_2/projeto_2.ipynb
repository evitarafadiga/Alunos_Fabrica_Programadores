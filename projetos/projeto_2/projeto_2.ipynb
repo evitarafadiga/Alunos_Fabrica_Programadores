{
 "cells": [
  {
   "cell_type": "markdown",
   "id": "1ba2259c",
   "metadata": {},
   "source": [
    "# Projeto 2: Relatório de Preços para o Mercado Brasileiro 💰 \n",
    "---\n",
    "## O Cenário ✨\n",
    "Você foi contratado como programador pela \"Global Tech\", uma gigante do varejo online que está expandindo suas operações para o Brasil. Atualmente, a lista de preços de todos os produtos da empresa está em um arquivo de texto, vendas_dolar.txt, com os valores em Dólar Americano (USD).\n",
    "\n",
    "A equipe de finanças no Brasil precisa urgentemente de um relatório com esses preços convertidos para Real Brasileiro (BRL) para poderem planejar a estratégia de marketing. Eles precisam que essa tarefa seja automatizada.\n",
    "\n",
    "Sua Missão: Criar um script em Python que leia cada preço do arquivo vendas_dolar.txt, converta-o para Real e salve o resultado em um novo arquivo chamado vendas_real.txt. O script também deve exibir uma mensagem de sucesso ao final da operação."
   ]
  },
  {
   "cell_type": "code",
   "execution_count": null,
   "id": "560ad3bb",
   "metadata": {},
   "outputs": [],
   "source": [
    "# Seu código aqui:"
   ]
  }
 ],
 "metadata": {
  "kernelspec": {
   "display_name": "Python 3",
   "language": "python",
   "name": "python3"
  },
  "language_info": {
   "name": "python",
   "version": "3.13.3"
  }
 },
 "nbformat": 4,
 "nbformat_minor": 5
}
